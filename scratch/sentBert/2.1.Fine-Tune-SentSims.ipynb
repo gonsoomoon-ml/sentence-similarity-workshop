{
 "cells": [
  {
   "cell_type": "markdown",
   "metadata": {},
   "source": [
    "### Install/Update Packages\n",
    "\n",
    "If the CUDA toolkit version is less than 10.1, be sure to install the CUDA 10.1 or 10.2."
   ]
  },
  {
   "cell_type": "code",
   "execution_count": 1,
   "metadata": {},
   "outputs": [
    {
     "name": "stdout",
     "output_type": "stream",
     "text": [
      "nvcc: NVIDIA (R) Cuda compiler driver\n",
      "Copyright (c) 2005-2019 NVIDIA Corporation\n",
      "Built on Sun_Jul_28_19:07:16_PDT_2019\n",
      "Cuda compilation tools, release 10.1, V10.1.243\n"
     ]
    }
   ],
   "source": [
    "!nvcc -V"
   ]
  },
  {
   "cell_type": "code",
   "execution_count": 2,
   "metadata": {},
   "outputs": [
    {
     "data": {
      "text/plain": [
       "0"
      ]
     },
     "execution_count": 2,
     "metadata": {},
     "output_type": "execute_result"
    }
   ],
   "source": [
    "import sys, subprocess\n",
    "subprocess.call([sys.executable, '-m', 'pip', 'install', 'gluonnlp', 'torch', 'sentencepiece', 'tqdm', \n",
    "                 'onnxruntime', 'transformers', 'git+https://git@github.com/SKTBrain/KoBERT.git@master'])"
   ]
  },
  {
   "cell_type": "code",
   "execution_count": 3,
   "metadata": {},
   "outputs": [],
   "source": [
    "import io, os\n",
    "import random\n",
    "import pandas as pd\n",
    "import numpy as np\n",
    "import mxnet as mx\n",
    "from mxnet.gluon import nn, rnn\n",
    "from mxnet import nd, gluon, autograd\n",
    "import gluonnlp as nlp\n",
    "import time\n",
    "import itertools\n",
    "import random\n",
    "import sys\n",
    "\n",
    "sys.path.append(os.path.join(os.getcwd(), 'src'))\n",
    "\n",
    "from model import get_mxnet_kobert_model\n",
    "from kobert.utils import get_tokenizer\n",
    "from bert import BERTDatasetTransform, BERTDataset, BERTClassifier\n",
    "\n",
    "import warnings\n",
    "warnings.filterwarnings('ignore')"
   ]
  },
  {
   "cell_type": "code",
   "execution_count": 4,
   "metadata": {},
   "outputs": [],
   "source": [
    "np.random.seed(100)\n",
    "random.seed(100)\n",
    "mx.random.seed(10000)"
   ]
  },
  {
   "cell_type": "markdown",
   "metadata": {},
   "source": [
    "I assume you have at least one GPU. Of course, GPU is not required when deploying a trained model, but it is very slow without a GPU for training."
   ]
  },
  {
   "cell_type": "code",
   "execution_count": 5,
   "metadata": {},
   "outputs": [
    {
     "name": "stdout",
     "output_type": "stream",
     "text": [
      "Working Folder:  /home/ec2-user/SageMaker/sentence-similarity-workshop/scratch/sentBert\n",
      "Number of GPUS: 2\n"
     ]
    }
   ],
   "source": [
    "wk_folder = os.getcwd()\n",
    "#num_gpus = mx.context.num_gpus()\n",
    "num_gpus = 2\n",
    "ctx = [mx.gpu(i) for i in range(num_gpus)]\n",
    "print(\"Working Folder: \", wk_folder)\n",
    "print(\"Number of GPUS:\" , num_gpus)"
   ]
  },
  {
   "cell_type": "markdown",
   "metadata": {},
   "source": [
    "### Get pre-trained KoBERT model"
   ]
  },
  {
   "cell_type": "code",
   "execution_count": 6,
   "metadata": {},
   "outputs": [
    {
     "name": "stdout",
     "output_type": "stream",
     "text": [
      "using cached model\n",
      "using cached model\n"
     ]
    }
   ],
   "source": [
    "bert_base, vocab = get_mxnet_kobert_model(use_decoder=False, use_classifier=False, ctx=ctx)"
   ]
  },
  {
   "cell_type": "markdown",
   "metadata": {},
   "source": [
    "### Initialize BERT Classifier\n",
    "We only need one addiational `Dense` layer for classification task.\n",
    "GluonNLP's `model` class supports the `BERTClassifier()`, so you can easily add the classifier layer in one line. Of course, you can implement your own class. See `src/bert.py` for details."
   ]
  },
  {
   "cell_type": "code",
   "execution_count": 7,
   "metadata": {},
   "outputs": [],
   "source": [
    "bert_classifier = nlp.model.BERTClassifier(bert_base, num_classes=2, \n",
    "                                           dropout=0.5)\n",
    "\n",
    "\n",
    "# Only need to initialize the classifier layer.\n",
    "bert_classifier.classifier.initialize(init=mx.init.Normal(0.02), ctx=ctx)\n",
    "bert_classifier.hybridize(static_alloc=True)\n",
    "\n",
    "# softmax cross entropy loss for classification\n",
    "loss_function = gluon.loss.SoftmaxCELoss()\n",
    "loss_function.hybridize(static_alloc=True)\n",
    "\n",
    "metric = mx.metric.Accuracy()"
   ]
  },
  {
   "cell_type": "code",
   "execution_count": 8,
   "metadata": {},
   "outputs": [],
   "source": [
    "# print(bert_classifier)"
   ]
  },
  {
   "cell_type": "markdown",
   "metadata": {},
   "source": [
    "<br>\n",
    "\n",
    "## 2. Preparing the Dataset\n",
    "---\n"
   ]
  },
  {
   "cell_type": "code",
   "execution_count": 9,
   "metadata": {},
   "outputs": [
    {
     "data": {
      "text/html": [
       "<div>\n",
       "<style scoped>\n",
       "    .dataframe tbody tr th:only-of-type {\n",
       "        vertical-align: middle;\n",
       "    }\n",
       "\n",
       "    .dataframe tbody tr th {\n",
       "        vertical-align: top;\n",
       "    }\n",
       "\n",
       "    .dataframe thead th {\n",
       "        text-align: right;\n",
       "    }\n",
       "</style>\n",
       "<table border=\"1\" class=\"dataframe\">\n",
       "  <thead>\n",
       "    <tr style=\"text-align: right;\">\n",
       "      <th></th>\n",
       "      <th>genre</th>\n",
       "      <th>filename</th>\n",
       "      <th>year</th>\n",
       "      <th>id</th>\n",
       "      <th>score</th>\n",
       "      <th>sentence1</th>\n",
       "      <th>sentence2</th>\n",
       "      <th>label</th>\n",
       "    </tr>\n",
       "  </thead>\n",
       "  <tbody>\n",
       "    <tr>\n",
       "      <th>0</th>\n",
       "      <td>main-captions</td>\n",
       "      <td>MSRvid</td>\n",
       "      <td>2012test</td>\n",
       "      <td>1</td>\n",
       "      <td>5.00</td>\n",
       "      <td>비행기가 이륙하고 있다.</td>\n",
       "      <td>비행기가 이륙하고 있다.</td>\n",
       "      <td>1</td>\n",
       "    </tr>\n",
       "    <tr>\n",
       "      <th>1</th>\n",
       "      <td>main-captions</td>\n",
       "      <td>MSRvid</td>\n",
       "      <td>2012test</td>\n",
       "      <td>4</td>\n",
       "      <td>3.80</td>\n",
       "      <td>한 남자가 큰 플루트를 연주하고 있다.</td>\n",
       "      <td>남자가 플루트를 연주하고 있다.</td>\n",
       "      <td>1</td>\n",
       "    </tr>\n",
       "    <tr>\n",
       "      <th>2</th>\n",
       "      <td>main-captions</td>\n",
       "      <td>MSRvid</td>\n",
       "      <td>2012test</td>\n",
       "      <td>5</td>\n",
       "      <td>3.80</td>\n",
       "      <td>한 남자가 피자에 치즈를 뿌려놓고 있다.</td>\n",
       "      <td>한 남자가 구운 피자에 치즈 조각을 뿌려놓고 있다.</td>\n",
       "      <td>1</td>\n",
       "    </tr>\n",
       "    <tr>\n",
       "      <th>3</th>\n",
       "      <td>main-captions</td>\n",
       "      <td>MSRvid</td>\n",
       "      <td>2012test</td>\n",
       "      <td>6</td>\n",
       "      <td>2.60</td>\n",
       "      <td>세 남자가 체스를 하고 있다.</td>\n",
       "      <td>두 남자가 체스를 하고 있다.</td>\n",
       "      <td>0</td>\n",
       "    </tr>\n",
       "    <tr>\n",
       "      <th>4</th>\n",
       "      <td>main-captions</td>\n",
       "      <td>MSRvid</td>\n",
       "      <td>2012test</td>\n",
       "      <td>9</td>\n",
       "      <td>4.25</td>\n",
       "      <td>한 남자가 첼로를 연주하고 있다.</td>\n",
       "      <td>자리에 앉은 남자가 첼로를 연주하고 있다.</td>\n",
       "      <td>1</td>\n",
       "    </tr>\n",
       "  </tbody>\n",
       "</table>\n",
       "</div>"
      ],
      "text/plain": [
       "           genre filename      year  id  score               sentence1  \\\n",
       "0  main-captions   MSRvid  2012test   1   5.00           비행기가 이륙하고 있다.   \n",
       "1  main-captions   MSRvid  2012test   4   3.80   한 남자가 큰 플루트를 연주하고 있다.   \n",
       "2  main-captions   MSRvid  2012test   5   3.80  한 남자가 피자에 치즈를 뿌려놓고 있다.   \n",
       "3  main-captions   MSRvid  2012test   6   2.60        세 남자가 체스를 하고 있다.   \n",
       "4  main-captions   MSRvid  2012test   9   4.25      한 남자가 첼로를 연주하고 있다.   \n",
       "\n",
       "                      sentence2  label  \n",
       "0                 비행기가 이륙하고 있다.      1  \n",
       "1             남자가 플루트를 연주하고 있다.      1  \n",
       "2  한 남자가 구운 피자에 치즈 조각을 뿌려놓고 있다.      1  \n",
       "3              두 남자가 체스를 하고 있다.      0  \n",
       "4       자리에 앉은 남자가 첼로를 연주하고 있다.      1  "
      ]
     },
     "execution_count": 9,
     "metadata": {},
     "output_type": "execute_result"
    }
   ],
   "source": [
    "df = pd.read_csv('preproc/train/train.tab', sep='\\t')\n",
    "df.head()"
   ]
  },
  {
   "cell_type": "code",
   "execution_count": 10,
   "metadata": {},
   "outputs": [
    {
     "data": {
      "text/html": [
       "<div>\n",
       "<style scoped>\n",
       "    .dataframe tbody tr th:only-of-type {\n",
       "        vertical-align: middle;\n",
       "    }\n",
       "\n",
       "    .dataframe tbody tr th {\n",
       "        vertical-align: top;\n",
       "    }\n",
       "\n",
       "    .dataframe thead th {\n",
       "        text-align: right;\n",
       "    }\n",
       "</style>\n",
       "<table border=\"1\" class=\"dataframe\">\n",
       "  <thead>\n",
       "    <tr style=\"text-align: right;\">\n",
       "      <th></th>\n",
       "      <th>genre</th>\n",
       "      <th>filename</th>\n",
       "      <th>year</th>\n",
       "      <th>id</th>\n",
       "      <th>score</th>\n",
       "      <th>sentence1</th>\n",
       "      <th>sentence2</th>\n",
       "      <th>label</th>\n",
       "    </tr>\n",
       "  </thead>\n",
       "  <tbody>\n",
       "    <tr>\n",
       "      <th>0</th>\n",
       "      <td>main-captions</td>\n",
       "      <td>MSRvid</td>\n",
       "      <td>2012test</td>\n",
       "      <td>24</td>\n",
       "      <td>2.500</td>\n",
       "      <td>한 소녀가 머리를 스타일링하고 있다.</td>\n",
       "      <td>한 소녀가 머리를 빗고 있다.</td>\n",
       "      <td>0</td>\n",
       "    </tr>\n",
       "    <tr>\n",
       "      <th>1</th>\n",
       "      <td>main-captions</td>\n",
       "      <td>MSRvid</td>\n",
       "      <td>2012test</td>\n",
       "      <td>33</td>\n",
       "      <td>3.600</td>\n",
       "      <td>한 무리의 남자들이 해변에서 축구를 한다.</td>\n",
       "      <td>한 무리의 소년들이 해변에서 축구를 하고 있다.</td>\n",
       "      <td>1</td>\n",
       "    </tr>\n",
       "    <tr>\n",
       "      <th>2</th>\n",
       "      <td>main-captions</td>\n",
       "      <td>MSRvid</td>\n",
       "      <td>2012test</td>\n",
       "      <td>45</td>\n",
       "      <td>5.000</td>\n",
       "      <td>한 여성이 다른 여성의 발목을 재고 있다.</td>\n",
       "      <td>한 여자는 다른 여자의 발목을 측정한다.</td>\n",
       "      <td>1</td>\n",
       "    </tr>\n",
       "    <tr>\n",
       "      <th>3</th>\n",
       "      <td>main-captions</td>\n",
       "      <td>MSRvid</td>\n",
       "      <td>2012test</td>\n",
       "      <td>63</td>\n",
       "      <td>4.200</td>\n",
       "      <td>한 남자가 오이를 자르고 있다.</td>\n",
       "      <td>한 남자가 오이를 자르고 있다.</td>\n",
       "      <td>1</td>\n",
       "    </tr>\n",
       "    <tr>\n",
       "      <th>4</th>\n",
       "      <td>main-captions</td>\n",
       "      <td>MSRvid</td>\n",
       "      <td>2012test</td>\n",
       "      <td>66</td>\n",
       "      <td>1.500</td>\n",
       "      <td>한 남자가 하프를 연주하고 있다.</td>\n",
       "      <td>한 남자가 키보드를 연주하고 있다.</td>\n",
       "      <td>0</td>\n",
       "    </tr>\n",
       "    <tr>\n",
       "      <th>5</th>\n",
       "      <td>main-captions</td>\n",
       "      <td>MSRvid</td>\n",
       "      <td>2012test</td>\n",
       "      <td>74</td>\n",
       "      <td>1.800</td>\n",
       "      <td>한 여자가 양파를 자르고 있다.</td>\n",
       "      <td>한 여자가 두부를 자르고 있다.</td>\n",
       "      <td>0</td>\n",
       "    </tr>\n",
       "    <tr>\n",
       "      <th>6</th>\n",
       "      <td>main-captions</td>\n",
       "      <td>MSRvid</td>\n",
       "      <td>2012test</td>\n",
       "      <td>76</td>\n",
       "      <td>3.500</td>\n",
       "      <td>한 남자가 전기 자전거를 타고 있다.</td>\n",
       "      <td>한 남자가 자전거를 타고 있다.</td>\n",
       "      <td>1</td>\n",
       "    </tr>\n",
       "    <tr>\n",
       "      <th>7</th>\n",
       "      <td>main-captions</td>\n",
       "      <td>MSRvid</td>\n",
       "      <td>2012test</td>\n",
       "      <td>82</td>\n",
       "      <td>2.200</td>\n",
       "      <td>한 남자가 드럼을 치고 있다.</td>\n",
       "      <td>남자가 기타를 치고 있다.</td>\n",
       "      <td>0</td>\n",
       "    </tr>\n",
       "    <tr>\n",
       "      <th>8</th>\n",
       "      <td>main-captions</td>\n",
       "      <td>MSRvid</td>\n",
       "      <td>2012test</td>\n",
       "      <td>92</td>\n",
       "      <td>2.200</td>\n",
       "      <td>한 남자가 기타를 치고 있다.</td>\n",
       "      <td>한 여성이 기타를 연주하고 있다.</td>\n",
       "      <td>0</td>\n",
       "    </tr>\n",
       "    <tr>\n",
       "      <th>9</th>\n",
       "      <td>main-captions</td>\n",
       "      <td>MSRvid</td>\n",
       "      <td>2012test</td>\n",
       "      <td>95</td>\n",
       "      <td>1.714</td>\n",
       "      <td>한 남자가 기타를 치고 있다.</td>\n",
       "      <td>한 남자가 트럼펫을 연주하고 있다.</td>\n",
       "      <td>0</td>\n",
       "    </tr>\n",
       "  </tbody>\n",
       "</table>\n",
       "</div>"
      ],
      "text/plain": [
       "           genre filename      year  id  score                sentence1  \\\n",
       "0  main-captions   MSRvid  2012test  24  2.500     한 소녀가 머리를 스타일링하고 있다.   \n",
       "1  main-captions   MSRvid  2012test  33  3.600  한 무리의 남자들이 해변에서 축구를 한다.   \n",
       "2  main-captions   MSRvid  2012test  45  5.000  한 여성이 다른 여성의 발목을 재고 있다.   \n",
       "3  main-captions   MSRvid  2012test  63  4.200        한 남자가 오이를 자르고 있다.   \n",
       "4  main-captions   MSRvid  2012test  66  1.500       한 남자가 하프를 연주하고 있다.   \n",
       "5  main-captions   MSRvid  2012test  74  1.800        한 여자가 양파를 자르고 있다.   \n",
       "6  main-captions   MSRvid  2012test  76  3.500     한 남자가 전기 자전거를 타고 있다.   \n",
       "7  main-captions   MSRvid  2012test  82  2.200         한 남자가 드럼을 치고 있다.   \n",
       "8  main-captions   MSRvid  2012test  92  2.200         한 남자가 기타를 치고 있다.   \n",
       "9  main-captions   MSRvid  2012test  95  1.714         한 남자가 기타를 치고 있다.   \n",
       "\n",
       "                    sentence2  label  \n",
       "0            한 소녀가 머리를 빗고 있다.      0  \n",
       "1  한 무리의 소년들이 해변에서 축구를 하고 있다.      1  \n",
       "2      한 여자는 다른 여자의 발목을 측정한다.      1  \n",
       "3           한 남자가 오이를 자르고 있다.      1  \n",
       "4         한 남자가 키보드를 연주하고 있다.      0  \n",
       "5           한 여자가 두부를 자르고 있다.      0  \n",
       "6           한 남자가 자전거를 타고 있다.      1  \n",
       "7              남자가 기타를 치고 있다.      0  \n",
       "8          한 여성이 기타를 연주하고 있다.      0  \n",
       "9         한 남자가 트럼펫을 연주하고 있다.      0  "
      ]
     },
     "execution_count": 10,
     "metadata": {},
     "output_type": "execute_result"
    }
   ],
   "source": [
    "df = pd.read_csv('preproc/test/test.tab', sep='\\t')\n",
    "df.head(10)"
   ]
  },
  {
   "cell_type": "code",
   "execution_count": 11,
   "metadata": {},
   "outputs": [
    {
     "name": "stdout",
     "output_type": "stream",
     "text": [
      "['비행기가 이륙하고 있다.', '비행기가 이륙하고 있다.', '1']\n",
      "['한 남자가 기타를 치고 있다.', '한 남자가 트럼펫을 연주하고 있다.', '0']\n"
     ]
    }
   ],
   "source": [
    "dataset_train = nlp.data.TSVDataset('preproc/train/train.tab', \n",
    "                                     field_indices=[5,6,7], \n",
    "                                     num_discard_samples=1)\n",
    "\n",
    "dataset_test = nlp.data.TSVDataset('preproc/test/test.tab', \n",
    "                                     field_indices=[5,6,7], \n",
    "                                     num_discard_samples=1)\n",
    "\n",
    "\n",
    "print(dataset_train[0])\n",
    "print(dataset_test[10])"
   ]
  },
  {
   "cell_type": "markdown",
   "metadata": {},
   "source": [
    "<br>\n",
    "\n",
    "## 3. Tokenization & Transform\n",
    "---\n",
    "Transform the dataset into the format that BERT can be trained on. \n",
    "\n",
    "### Get tokenizer"
   ]
  },
  {
   "cell_type": "code",
   "execution_count": 12,
   "metadata": {},
   "outputs": [
    {
     "name": "stdout",
     "output_type": "stream",
     "text": [
      "using cached model\n"
     ]
    }
   ],
   "source": [
    "tokenizer = get_tokenizer()\n",
    "bert_tokenizer = nlp.data.BERTSPTokenizer(tokenizer, vocab, lower=False)"
   ]
  },
  {
   "cell_type": "markdown",
   "metadata": {},
   "source": [
    "### Transformation\n",
    "\n",
    "Input sentences must be converted to token index, token type, and valid length, which are necessary input vectors for BERT training. Token index is required to generate Token Embedding, token type is required for Sentence Embedding, and valid length is required to perform various operations internally. \n",
    "\n",
    "- ***Token Index***: The vocabulary index of each token is extracted and generated as a vector of a fixed length. We often refer to these vectors as `token_id`.\n",
    "For reference, some vocabulary indexes are already reserved (e.g., The vocabulary indexes of `[PAD], [CLS], [SEP], [MASK]` are 1, 2, 3, 4, respectively).\n",
    "- ***Token Type***: Since single sentence or two sentences can come in, token segment vectors are required to distinguish them if a token belongs to first sentence or the second sentence. We often refer to these vectors as `segment_id`. \n",
    "    - In the case of single sentence, the value of each token is always 0.\n",
    "    - In the case of two sentences, the token belonging to the first sentence is 0, and the token belonging to the second sentence is 1.\n"
   ]
  },
  {
   "cell_type": "code",
   "execution_count": 13,
   "metadata": {},
   "outputs": [
    {
     "name": "stdout",
     "output_type": "stream",
     "text": [
      "vocabulary used for tokenization = \n",
      "Vocab(size=8002, unk=\"[UNK]\", reserved=\"['[CLS]', '[SEP]', '[MASK]', '[PAD]']\")\n",
      "[PAD] token id = 1\n",
      "[CLS] token id = 2\n",
      "[SEP] token id = 3\n",
      "[MASK] token id = 4\n"
     ]
    }
   ],
   "source": [
    "print('vocabulary used for tokenization = \\n%s'%vocab)\n",
    "print('%s token id = %s'%(vocab.padding_token, vocab[vocab.padding_token]))\n",
    "print('%s token id = %s'%(vocab.cls_token, vocab[vocab.cls_token]))\n",
    "print('%s token id = %s'%(vocab.sep_token, vocab[vocab.sep_token]))\n",
    "print('%s token id = %s'%(vocab.mask_token, vocab[vocab.mask_token]))"
   ]
  },
  {
   "cell_type": "markdown",
   "metadata": {},
   "source": [
    "Transformation is performed through the following procedures.\n",
    "\n",
    "- Tokenize the input sequences \n",
    "- Insert `[CLS]` token at the beginning \n",
    "- Insert `[SEP]` token between sentence A and sentence B, and at the end \n",
    "- Generate segment ids to indicate whether a token belongs to the first sequence or the second sequence. If the input sentence is not a pair, this value is always 0.\n",
    "- Generate valid length.\n",
    "\n",
    "Let's transform one sentence for test purpose."
   ]
  },
  {
   "cell_type": "markdown",
   "metadata": {},
   "source": [
    "Let's convert all sententces. When converting multiple sentences, it is convenient to use the `BERTDatasetTransform()` function, which is published in the GluonNLP tutorial. The training and evaluation time varies depending on the `max_len` parameter. In this example, we recommend 64."
   ]
  },
  {
   "cell_type": "markdown",
   "metadata": {},
   "source": [
    "Let's check sample outputs."
   ]
  },
  {
   "cell_type": "code",
   "execution_count": 14,
   "metadata": {},
   "outputs": [
    {
     "name": "stdout",
     "output_type": "stream",
     "text": [
      "<mxnet.gluon.data.dataset._LazyTransformDataset object at 0x7fcf542f6550>\n",
      "vocabulary used for tokenization = \n",
      "Vocab(size=8002, unk=\"[UNK]\", reserved=\"['[CLS]', '[SEP]', '[MASK]', '[PAD]']\")\n",
      "[PAD] token id = 1\n",
      "[CLS] token id = 2\n",
      "[SEP] token id = 3\n",
      "token ids = \n",
      "[   2 2545 5330 3647 6108 7788 3862  517   54    3 2545 5330 3647 6108\n",
      " 7788 3862  517   54    3    1    1    1    1    1    1    1    1    1\n",
      "    1    1    1    1    1    1    1    1    1    1    1    1    1    1\n",
      "    1    1    1    1    1    1    1    1    1    1    1    1    1    1\n",
      "    1    1    1    1    1    1    1    1    1    1    1    1    1    1\n",
      "    1    1    1    1    1    1    1    1    1    1    1    1    1    1\n",
      "    1    1    1    1    1    1    1    1    1    1    1    1    1    1\n",
      "    1    1]\n",
      "segment ids = \n",
      "[0 0 0 0 0 0 0 0 0 0 1 1 1 1 1 1 1 1 1 0 0 0 0 0 0 0 0 0 0 0 0 0 0 0 0 0 0\n",
      " 0 0 0 0 0 0 0 0 0 0 0 0 0 0 0 0 0 0 0 0 0 0 0 0 0 0 0 0 0 0 0 0 0 0 0 0 0\n",
      " 0 0 0 0 0 0 0 0 0 0 0 0 0 0 0 0 0 0 0 0 0 0 0 0 0 0]\n",
      "valid length = \n",
      "19\n",
      "label = \n",
      "[1]\n",
      "<mxnet.gluon.data.dataset._LazyTransformDataset object at 0x7fcf542f67f0>\n",
      "vocabulary used for tokenization = \n",
      "Vocab(size=8002, unk=\"[UNK]\", reserved=\"['[CLS]', '[SEP]', '[MASK]', '[PAD]']\")\n",
      "[PAD] token id = 1\n",
      "[CLS] token id = 2\n",
      "[SEP] token id = 3\n",
      "token ids = \n",
      "[   2 4955 2826 5330 2008 6116 2939 6139 7788 3862  517   54    3 4955\n",
      " 2826 5330 2008 6116  517 6455 5439 3862  517   54    3    1    1    1\n",
      "    1    1    1    1    1    1    1    1    1    1    1    1    1    1\n",
      "    1    1    1    1    1    1    1    1    1    1    1    1    1    1\n",
      "    1    1    1    1    1    1    1    1    1    1    1    1    1    1\n",
      "    1    1    1    1    1    1    1    1    1    1    1    1    1    1\n",
      "    1    1    1    1    1    1    1    1    1    1    1    1    1    1\n",
      "    1    1]\n",
      "segment ids = \n",
      "[0 0 0 0 0 0 0 0 0 0 0 0 0 1 1 1 1 1 1 1 1 1 1 1 1 0 0 0 0 0 0 0 0 0 0 0 0\n",
      " 0 0 0 0 0 0 0 0 0 0 0 0 0 0 0 0 0 0 0 0 0 0 0 0 0 0 0 0 0 0 0 0 0 0 0 0 0\n",
      " 0 0 0 0 0 0 0 0 0 0 0 0 0 0 0 0 0 0 0 0 0 0 0 0 0 0]\n",
      "valid length = \n",
      "25\n",
      "label = \n",
      "[0]\n"
     ]
    }
   ],
   "source": [
    "from bert2 import data\n",
    "vocabulary = vocab\n",
    "def print_sample_transform2(dataset, idx, bert_tokenizer, max_seq_length=20, pair=True):\n",
    "    label = [[dataset[idx][0]]]\n",
    "    sen1 = dataset[idx][1]\n",
    "    sen2 = dataset[idx][2]    \n",
    "    \n",
    "    # The labels for the two classes [(0 = not similar) or  (1 = similar)]\n",
    "    all_labels = [\"0\", \"1\"]\n",
    "\n",
    "    # whether to transform the data as sentence pairs.\n",
    "    # for single sentence classification, set pair=False\n",
    "    # for regression task, set class_labels=None\n",
    "    # for inference without label available, set has_label=False\n",
    "    pair = True\n",
    "    transform = data.transform.BERTDatasetTransform(bert_tokenizer, max_seq_length,\n",
    "                                                    class_labels=all_labels,\n",
    "                                                    has_label=True,\n",
    "                                                    pad=True,\n",
    "                                                    pair=pair)\n",
    "\n",
    "    \n",
    "\n",
    "    data_train = dataset.transform(transform)\n",
    "    print(data_train)\n",
    "\n",
    "    print('vocabulary used for tokenization = \\n%s'%vocabulary)\n",
    "    print('%s token id = %s'%(vocabulary.padding_token, vocabulary[vocabulary.padding_token]))\n",
    "    print('%s token id = %s'%(vocabulary.cls_token, vocabulary[vocabulary.cls_token]))\n",
    "    print('%s token id = %s'%(vocabulary.sep_token, vocabulary[vocabulary.sep_token]))\n",
    "    print('token ids = \\n%s'%data_train[idx][0])\n",
    "    print('segment ids = \\n%s'%data_train[idx][1])\n",
    "    print('valid length = \\n%s'%data_train[idx][2])\n",
    "    print('label = \\n%s'%data_train[idx][3])    \n",
    "    return data_train\n",
    "    \n",
    "data_train = print_sample_transform2(dataset_train, 0, bert_tokenizer, max_seq_length=100)\n",
    "data_test = print_sample_transform2(dataset_test, 0, bert_tokenizer, max_seq_length = 100)\n",
    "# data_train[0]"
   ]
  },
  {
   "cell_type": "code",
   "execution_count": 15,
   "metadata": {},
   "outputs": [
    {
     "name": "stdout",
     "output_type": "stream",
     "text": [
      "token ids = \n",
      "[   2 2545 5330 3647 6108 7788 3862  517   54    3 2545 5330 3647 6108\n",
      " 7788 3862  517   54    3    1    1    1    1    1    1    1    1    1\n",
      "    1    1    1    1    1    1    1    1    1    1    1    1    1    1\n",
      "    1    1    1    1    1    1    1    1    1    1    1    1    1    1\n",
      "    1    1    1    1    1    1    1    1    1    1    1    1    1    1\n",
      "    1    1    1    1    1    1    1    1    1    1    1    1    1    1\n",
      "    1    1    1    1    1    1    1    1    1    1    1    1    1    1\n",
      "    1    1]\n",
      "segment ids = \n",
      "[0 0 0 0 0 0 0 0 0 0 1 1 1 1 1 1 1 1 1 0 0 0 0 0 0 0 0 0 0 0 0 0 0 0 0 0 0\n",
      " 0 0 0 0 0 0 0 0 0 0 0 0 0 0 0 0 0 0 0 0 0 0 0 0 0 0 0 0 0 0 0 0 0 0 0 0 0\n",
      " 0 0 0 0 0 0 0 0 0 0 0 0 0 0 0 0 0 0 0 0 0 0 0 0 0 0]\n",
      "valid length = \n",
      "19\n",
      "label = \n",
      "[1]\n"
     ]
    }
   ],
   "source": [
    "sample_id = 0\n",
    "print('token ids = \\n%s'%data_train[sample_id][0])\n",
    "print('segment ids = \\n%s'%data_train[sample_id][1])\n",
    "print('valid length = \\n%s'%data_train[sample_id][2])\n",
    "print('label = \\n%s'%data_train[sample_id][3])"
   ]
  },
  {
   "cell_type": "markdown",
   "metadata": {},
   "source": [
    "<br>\n",
    "\n",
    "## 4. Creating DataLoader and Trainer \n",
    "---\n",
    "We need to create an iterator for tha dataset using `DataLoader`. Iterators save memory during training because you don not have to load the entire dataset into memory."
   ]
  },
  {
   "cell_type": "markdown",
   "metadata": {},
   "source": [
    "### Setting hyperparameters\n",
    "\n",
    "You can specify only 1 for `num_epoch`. This dataset is close to 90% accuracy when fine-tuning with KoBERT, but training only 1 epoch yields 88% accuracy."
   ]
  },
  {
   "cell_type": "code",
   "execution_count": 16,
   "metadata": {},
   "outputs": [],
   "source": [
    "batch_size = 64 * num_gpus\n",
    "num_epochs = 6\n",
    "max_grad_norm = 1\n",
    "log_interval = 50\n",
    "lr = 5e-5"
   ]
  },
  {
   "cell_type": "code",
   "execution_count": 17,
   "metadata": {},
   "outputs": [
    {
     "name": "stdout",
     "output_type": "stream",
     "text": [
      "CPU times: user 1.17 s, sys: 0 ns, total: 1.17 s\n",
      "Wall time: 1.17 s\n"
     ]
    }
   ],
   "source": [
    "%%time\n",
    "# The FixedBucketSampler and the DataLoader for making the mini-batches\n",
    "train_sampler = nlp.data.FixedBucketSampler(lengths=[int(item[2]) for item in data_train],\n",
    "                                            batch_size=batch_size,\n",
    "                                            shuffle=True)\n",
    "train_dataloader = gluon.data.DataLoader(data_train, batch_sampler=train_sampler)"
   ]
  },
  {
   "cell_type": "code",
   "execution_count": 18,
   "metadata": {},
   "outputs": [
    {
     "name": "stdout",
     "output_type": "stream",
     "text": [
      "CPU times: user 283 ms, sys: 0 ns, total: 283 ms\n",
      "Wall time: 282 ms\n"
     ]
    }
   ],
   "source": [
    "%%time\n",
    "test_sampler = nlp.data.FixedBucketSampler(lengths=[int(item[2]) for item in data_test],\n",
    "                                            batch_size=batch_size,\n",
    "                                            shuffle=True)\n",
    "test_dataloader = mx.gluon.data.DataLoader(data_test, batch_sampler=test_sampler)"
   ]
  },
  {
   "cell_type": "markdown",
   "metadata": {},
   "source": [
    "Initialize the `gluon.Trainer()`. Gradient clipping to prevent the exploding gradient can be implemented during training, but can be used simply by specifying it when initializing the `gluon.Trainer()`."
   ]
  },
  {
   "cell_type": "code",
   "execution_count": 19,
   "metadata": {},
   "outputs": [],
   "source": [
    "all_model_params = bert_classifier.collect_params()\n",
    "trainer = gluon.Trainer(all_model_params, 'adam',\n",
    "                        {'learning_rate': lr, 'epsilon': 1e-9, 'clip_gradient': 1}, \n",
    "                        kvstore='device')\n",
    "    \n",
    "# Weight Decay is not applied to LayerNorm and Bias.\n",
    "for _, v in bert_classifier.collect_params('.*beta|.*gamma|.*bias').items():\n",
    "    v.wd_mult = 0.0\n",
    "    \n",
    "# Collect all differentiable parameters\n",
    "# `grad_req == 'null'` indicates no gradients are calculated (e.g. constant parameters)\n",
    "# The gradients for these params are clipped later\n",
    "params = [p for p in all_model_params.values() if p.grad_req != 'null']  "
   ]
  },
  {
   "cell_type": "markdown",
   "metadata": {},
   "source": [
    "<br>\n",
    "\n",
    "## 5. Fine-tuning the model\n",
    "---\n",
    "Now you can start fine-tuning the model with a few epochs. The code below is based on the [GluonNLP tutorial](https://gluon-nlp.mxnet.io/examples/sentence_embedding/bert.html) and the [BERT Fine-tuning](https://mccormickml.com/2019/07/22/BERT-fine-tuning/). <br>\n",
    "On a single GPU basis, 1 epoch training takes about 9 minutes on `p3.2xlarge` instance, and 1 epoch training takes about 25 minutes on `g4dn.xlarge` instance. Using multi-GPU greatly reduces the training time, and it takes about 4 minutes 30 seconds to train 1 epoch using `p3.8xlarge` instance."
   ]
  },
  {
   "cell_type": "code",
   "execution_count": 20,
   "metadata": {},
   "outputs": [],
   "source": [
    "import time\n",
    "import datetime\n",
    "# import tqdm\n",
    "# from tqdm.notebook import tqdm\n",
    "\n",
    "def format_time(elapsed):\n",
    "    '''\n",
    "    Takes a time in seconds and returns a string hh:mm:ss\n",
    "    '''\n",
    "    # Round to the nearest second.\n",
    "    elapsed_rounded = int(round((elapsed)))\n",
    "    \n",
    "    # Format as hh:mm:ss\n",
    "    return str(datetime.timedelta(seconds=elapsed_rounded))\n",
    "\n",
    "def evaluate_accuracy(model, data_iter, ctx):\n",
    "    acc = mx.metric.Accuracy()\n",
    "    total_loss = 0\n",
    "    \n",
    "    for batch_id, (token_ids, segment_ids, valid_length, label) in enumerate(data_iter):\n",
    "        \n",
    "        token_ids = token_ids.as_in_context(ctx)\n",
    "        valid_length = valid_length.as_in_context(ctx)\n",
    "        segment_ids = segment_ids.as_in_context(ctx)\n",
    "        label = label.as_in_context(ctx)\n",
    "        \n",
    "        out = model(token_ids, segment_ids, valid_length.astype('float32'))\n",
    "        ls = loss_function(out, label).mean()\n",
    "        total_loss += ls.asscalar()\n",
    "        \n",
    "        acc.update(preds=out, labels=label)\n",
    "        \n",
    "    avg_acc = acc.get()[1]\n",
    "    avg_loss = total_loss / batch_id\n",
    "    \n",
    "    print('Validation loss={:.4f}, acc={:.3f}'.format(avg_loss, avg_acc))\n",
    "    total_loss = 0\n",
    "\n",
    "    return avg_acc, avg_loss  "
   ]
  },
  {
   "cell_type": "code",
   "execution_count": 21,
   "metadata": {},
   "outputs": [
    {
     "name": "stdout",
     "output_type": "stream",
     "text": [
      "Saving model to ./model_save/\n",
      "Validation loss=0.5079, acc=0.749\n",
      "Validation loss=0.6907, acc=0.565\n",
      "Validation loss=0.4919, acc=0.789\n",
      "Validation loss=0.4930, acc=0.807\n",
      "Validation loss=0.4932, acc=0.809\n",
      "Validation loss=0.6072, acc=0.810\n",
      "Validation loss=0.7107, acc=0.805\n",
      "Validation loss=0.7290, acc=0.798\n",
      "Validation loss=0.7258, acc=0.798\n",
      "Validation loss=0.8138, acc=0.802\n",
      "CPU times: user 5min 29s, sys: 2min 25s, total: 7min 54s\n",
      "Wall time: 3min 50s\n"
     ]
    }
   ],
   "source": [
    "%%time\n",
    "import os\n",
    "output_dir = './model_save/'\n",
    "\n",
    "# Create output directory if needed\n",
    "if not os.path.exists(output_dir):\n",
    "    os.makedirs(output_dir)\n",
    "print(\"Saving model to %s\" % output_dir)\n",
    "\n",
    "training_stats = []\n",
    "step_num = 0\n",
    "\n",
    "# Measure the total training time for the whole run.\n",
    "total_t0 = time.time()\n",
    "\n",
    "for epoch_id in range(num_epochs):\n",
    "\n",
    "    # === Training phase ===\n",
    "    \n",
    "    # Measure how long the training epoch takes.\n",
    "    t0 = time.time()    \n",
    "    \n",
    "    metric.reset()\n",
    "    step_loss = 0\n",
    "    total_loss = 0\n",
    "    \n",
    "    for batch_id, (token_ids, segment_ids, valid_length, label) in enumerate(train_dataloader):\n",
    "        \n",
    "        # Load the data to the GPUs\n",
    "        token_ids_ = gluon.utils.split_and_load(token_ids, ctx, even_split=False)\n",
    "        valid_length_ = gluon.utils.split_and_load(valid_length, ctx, even_split=False)\n",
    "        segment_ids_ = gluon.utils.split_and_load(segment_ids, ctx, even_split=False)\n",
    "        label_ = gluon.utils.split_and_load(label, ctx, even_split=False)\n",
    "\n",
    "        losses = []\n",
    "        with autograd.record():\n",
    "\n",
    "            for t, v, s, l in zip(token_ids_, valid_length_, segment_ids_, label_):\n",
    "                # Forward computation\n",
    "                out = bert_classifier(t, s, v.astype('float32'))\n",
    "                ls = loss_function(out, l)\n",
    "                losses.append(ls)\n",
    "                metric.update([l], [out])\n",
    "\n",
    "        # Perform a backward pass to calculate the gradients        \n",
    "        for ls in losses:\n",
    "            ls.backward()  \n",
    "        \n",
    "        trainer.step(batch_size)\n",
    "        \n",
    "        # Sum losses over all devices\n",
    "        sum_loss = (sum([l.sum().asscalar() for l in losses]))/batch_size\n",
    "        step_loss += sum_loss\n",
    "        total_loss += sum_loss\n",
    "        #metric.update([label], [out])\n",
    "\n",
    "        # Printing vital information\n",
    "        if (batch_id + 1) % (log_interval) == 0:\n",
    "            print('[Epoch {} Batch {}/{}] loss={:.4f}, lr={:.7f}, acc={:.3f}'\n",
    "                         .format(epoch_id, batch_id + 1, len(train_dataloader),\n",
    "                                 step_loss / log_interval,\n",
    "                                 trainer.learning_rate, metric.get()[1]))\n",
    "            step_loss = 0\n",
    "            \n",
    "        train_avg_acc = metric.get()[1]\n",
    "        train_avg_loss = total_loss\n",
    "        total_loss = 0\n",
    "\n",
    "    \n",
    "    # Measure how long this epoch took.\n",
    "    train_time = format_time(time.time() - t0)\n",
    "    \n",
    "    # === Validation phase ===\n",
    "    \n",
    "    # Measure how long the validation epoch takes.    \n",
    "    t0 = time.time()    \n",
    "    valid_avg_acc, valid_avg_loss = evaluate_accuracy(bert_classifier, test_dataloader, ctx[0])\n",
    "\n",
    "    # Measure how long this epoch took.\n",
    "    valid_time = format_time(time.time() - t0)\n",
    "    # Measure how long the validation run took.\n",
    "    validation_time = format_time(time.time() - t0)\n",
    "    \n",
    "     # Record all statistics from this epoch.\n",
    "    training_stats.append(\n",
    "        {\n",
    "            'epoch': epoch_id + 1,\n",
    "            'train_acc': train_avg_acc,\n",
    "            'train_loss': train_avg_loss,\n",
    "            'train_time': train_time,\n",
    "            'valid_acc': valid_avg_acc,\n",
    "            'valid_loss': valid_avg_loss,\n",
    "            'valid_time': valid_time\n",
    "        }\n",
    "    )    \n",
    "    \n",
    "    # === Save Model Parameters ===\n",
    "    bert_classifier.save_parameters('{}/net_epoch{}.params'.format(output_dir, epoch_id))    "
   ]
  },
  {
   "cell_type": "markdown",
   "metadata": {},
   "source": [
    "<br>\n",
    "\n",
    "## 6. Evaluation\n",
    "---\n",
    "\n",
    "Let's take a brief look at the training results so far.\n",
    "Having a lot of epochs is not a good thing. As you can see in the graph and table, training metrics continue to decrease, but validation metrics decrease after some point.\n",
    "\n",
    "The validation accuracy is pretty good with 89%, which is slightly less than the 90.1% accuracy on the official site, but has not been hyperparameter tuned."
   ]
  },
  {
   "cell_type": "code",
   "execution_count": 22,
   "metadata": {},
   "outputs": [
    {
     "data": {
      "text/html": [
       "<div>\n",
       "<style scoped>\n",
       "    .dataframe tbody tr th:only-of-type {\n",
       "        vertical-align: middle;\n",
       "    }\n",
       "\n",
       "    .dataframe tbody tr th {\n",
       "        vertical-align: top;\n",
       "    }\n",
       "\n",
       "    .dataframe thead th {\n",
       "        text-align: right;\n",
       "    }\n",
       "</style>\n",
       "<table border=\"1\" class=\"dataframe\">\n",
       "  <thead>\n",
       "    <tr style=\"text-align: right;\">\n",
       "      <th></th>\n",
       "      <th>train_acc</th>\n",
       "      <th>train_loss</th>\n",
       "      <th>train_time</th>\n",
       "      <th>valid_acc</th>\n",
       "      <th>valid_loss</th>\n",
       "      <th>valid_time</th>\n",
       "    </tr>\n",
       "    <tr>\n",
       "      <th>epoch</th>\n",
       "      <th></th>\n",
       "      <th></th>\n",
       "      <th></th>\n",
       "      <th></th>\n",
       "      <th></th>\n",
       "      <th></th>\n",
       "    </tr>\n",
       "  </thead>\n",
       "  <tbody>\n",
       "    <tr>\n",
       "      <th>1</th>\n",
       "      <td>0.6619</td>\n",
       "      <td>0.5771</td>\n",
       "      <td>0:00:21</td>\n",
       "      <td>0.7485</td>\n",
       "      <td>0.5079</td>\n",
       "      <td>0:00:02</td>\n",
       "    </tr>\n",
       "    <tr>\n",
       "      <th>2</th>\n",
       "      <td>0.7814</td>\n",
       "      <td>0.7173</td>\n",
       "      <td>0:00:20</td>\n",
       "      <td>0.5647</td>\n",
       "      <td>0.6907</td>\n",
       "      <td>0:00:02</td>\n",
       "    </tr>\n",
       "    <tr>\n",
       "      <th>3</th>\n",
       "      <td>0.7653</td>\n",
       "      <td>0.2816</td>\n",
       "      <td>0:00:20</td>\n",
       "      <td>0.7892</td>\n",
       "      <td>0.4919</td>\n",
       "      <td>0:00:02</td>\n",
       "    </tr>\n",
       "    <tr>\n",
       "      <th>4</th>\n",
       "      <td>0.8915</td>\n",
       "      <td>0.2784</td>\n",
       "      <td>0:00:20</td>\n",
       "      <td>0.8067</td>\n",
       "      <td>0.4930</td>\n",
       "      <td>0:00:02</td>\n",
       "    </tr>\n",
       "    <tr>\n",
       "      <th>5</th>\n",
       "      <td>0.9448</td>\n",
       "      <td>0.2290</td>\n",
       "      <td>0:00:20</td>\n",
       "      <td>0.8089</td>\n",
       "      <td>0.4932</td>\n",
       "      <td>0:00:03</td>\n",
       "    </tr>\n",
       "    <tr>\n",
       "      <th>6</th>\n",
       "      <td>0.9664</td>\n",
       "      <td>0.0299</td>\n",
       "      <td>0:00:20</td>\n",
       "      <td>0.8096</td>\n",
       "      <td>0.6072</td>\n",
       "      <td>0:00:03</td>\n",
       "    </tr>\n",
       "    <tr>\n",
       "      <th>7</th>\n",
       "      <td>0.9766</td>\n",
       "      <td>0.0088</td>\n",
       "      <td>0:00:20</td>\n",
       "      <td>0.8052</td>\n",
       "      <td>0.7107</td>\n",
       "      <td>0:00:03</td>\n",
       "    </tr>\n",
       "    <tr>\n",
       "      <th>8</th>\n",
       "      <td>0.9808</td>\n",
       "      <td>0.0713</td>\n",
       "      <td>0:00:20</td>\n",
       "      <td>0.7980</td>\n",
       "      <td>0.7290</td>\n",
       "      <td>0:00:03</td>\n",
       "    </tr>\n",
       "    <tr>\n",
       "      <th>9</th>\n",
       "      <td>0.9643</td>\n",
       "      <td>0.1530</td>\n",
       "      <td>0:00:20</td>\n",
       "      <td>0.7980</td>\n",
       "      <td>0.7258</td>\n",
       "      <td>0:00:03</td>\n",
       "    </tr>\n",
       "    <tr>\n",
       "      <th>10</th>\n",
       "      <td>0.9838</td>\n",
       "      <td>0.0090</td>\n",
       "      <td>0:00:20</td>\n",
       "      <td>0.8023</td>\n",
       "      <td>0.8138</td>\n",
       "      <td>0:00:03</td>\n",
       "    </tr>\n",
       "  </tbody>\n",
       "</table>\n",
       "</div>"
      ],
      "text/plain": [
       "       train_acc  train_loss train_time  valid_acc  valid_loss valid_time\n",
       "epoch                                                                    \n",
       "1         0.6619      0.5771    0:00:21     0.7485      0.5079    0:00:02\n",
       "2         0.7814      0.7173    0:00:20     0.5647      0.6907    0:00:02\n",
       "3         0.7653      0.2816    0:00:20     0.7892      0.4919    0:00:02\n",
       "4         0.8915      0.2784    0:00:20     0.8067      0.4930    0:00:02\n",
       "5         0.9448      0.2290    0:00:20     0.8089      0.4932    0:00:03\n",
       "6         0.9664      0.0299    0:00:20     0.8096      0.6072    0:00:03\n",
       "7         0.9766      0.0088    0:00:20     0.8052      0.7107    0:00:03\n",
       "8         0.9808      0.0713    0:00:20     0.7980      0.7290    0:00:03\n",
       "9         0.9643      0.1530    0:00:20     0.7980      0.7258    0:00:03\n",
       "10        0.9838      0.0090    0:00:20     0.8023      0.8138    0:00:03"
      ]
     },
     "execution_count": 22,
     "metadata": {},
     "output_type": "execute_result"
    }
   ],
   "source": [
    "import pandas as pd\n",
    "pd.set_option('precision', 4)\n",
    "\n",
    "df_stats = pd.DataFrame(data=training_stats)\n",
    "df_stats = df_stats.set_index('epoch')\n",
    "\n",
    "df_stats"
   ]
  },
  {
   "cell_type": "code",
   "execution_count": 23,
   "metadata": {},
   "outputs": [],
   "source": [
    "def plot_training_stats(df_stats, num_epochs=5):\n",
    "    import matplotlib.pyplot as plt\n",
    "    import seaborn as sns\n",
    "\n",
    "    # Use plot styling from seaborn.\n",
    "    sns.set(style='darkgrid')\n",
    "\n",
    "    # Increase the plot size and font size.\n",
    "    sns.set(font_scale=1.2)\n",
    "    plt.rcParams[\"figure.figsize\"] = (15,6)\n",
    "\n",
    "    xticks = list(range(1, num_epochs+1))\n",
    "\n",
    "    plt.subplot(221)\n",
    "\n",
    "    ax1 = plt.subplot(1, 2, 1)\n",
    "    ax1.plot(df_stats['train_loss'], 'b-o', label=\"Training\")\n",
    "    ax1.plot(df_stats['valid_loss'], 'g-o', label=\"Validation\")\n",
    "    ax1.set_xticks(xticks)     \n",
    "    ax1.set_title(\"Loss\")\n",
    "    ax1.set_xlabel(\"Epoch\")\n",
    "    ax1.set_ylabel(\"Loss\")\n",
    "    ax1.legend()\n",
    "\n",
    "    ax2 = plt.subplot(1, 2, 2)\n",
    "    ax2.plot(df_stats['train_acc'], 'b-o', label=\"Training\")\n",
    "    ax2.plot(df_stats['valid_acc'], 'g-o', label=\"Validation\")\n",
    "    ax2.set_xticks(xticks) \n",
    "    ax2.set_title(\"Accuracy\")\n",
    "    ax2.set_xlabel(\"Epoch\")\n",
    "    ax2.set_ylabel(\"Loss\")\n",
    "    ax2.legend()\n",
    "\n",
    "    plt.show()    "
   ]
  },
  {
   "cell_type": "code",
   "execution_count": 24,
   "metadata": {},
   "outputs": [
    {
     "data": {
      "image/png": "[encoded data removed]",
      "text/plain": [
       "<Figure size 1080x432 with 2 Axes>"
      ]
     },
     "metadata": {},
     "output_type": "display_data"
    }
   ],
   "source": [
    "%matplotlib inline\n",
    "plot_training_stats(df_stats, num_epochs)"
   ]
  },
  {
   "cell_type": "markdown",
   "metadata": {},
   "source": [
    "Delete all but the best performing models."
   ]
  },
  {
   "cell_type": "code",
   "execution_count": 25,
   "metadata": {},
   "outputs": [],
   "source": [
    "idx = df_stats['valid_acc'].argmax() - 1\n",
    "save_filename = 'net_epoch{}.params'.format(idx)\n",
    "\n",
    "for filename in os.listdir(output_dir):\n",
    "    if filename.endswith('params'):\n",
    "        if filename == save_filename:\n",
    "            os.rename(os.path.join(output_dir, filename), os.path.join(output_dir, 'net_nsmc.params'))\n",
    "        else:\n",
    "            os.remove(os.path.join(output_dir, filename))"
   ]
  },
  {
   "cell_type": "markdown",
   "metadata": {},
   "source": [
    "If you want to deploy the fine-tuned model to the SageMaker Endpoint, please copy the `.spiece` file to the model parameter folder and compress them with `model.tar.gz`.\n",
    "\n",
    "```bash\n",
    "# Example shell scripts\n",
    "$ cp ~/kobert/kobert_news_wiki_ko_cased-1087f8699e.spiece ./model_save/.\n",
    "$ cd model_save\n",
    "$ tar cvfz model.tar.gz ./*.params ./*.spiece\n",
    "$ aws s3 cp ./model.tar.gz s3://<your-bucket-name>/kobert-model/model.tar.gz\n",
    "```"
   ]
  },
  {
   "cell_type": "code",
   "execution_count": 26,
   "metadata": {},
   "outputs": [],
   "source": [
    "if '/root/' in wk_folder:\n",
    "    os.system(\"cp /root/kobert/kobert_news_wiki_ko_cased-1087f8699e.spiece ./model_save/.\")\n",
    "else:\n",
    "    root_path = '~/'\n",
    "    os.system(\"cp ~/kobert/kobert_news_wiki_ko_cased-1087f8699e.spiece ./model_save/.\")"
   ]
  },
  {
   "cell_type": "code",
   "execution_count": 27,
   "metadata": {},
   "outputs": [
    {
     "name": "stdout",
     "output_type": "stream",
     "text": [
      "./model_save/net_nsmc.params\n",
      "./model_save/kobert_news_wiki_ko_cased-1087f8699e.spiece\n"
     ]
    }
   ],
   "source": [
    "!tar cvfz ./model_save/model.tar.gz ./model_save/*.params ./model_save/*.spiece"
   ]
  },
  {
   "cell_type": "markdown",
   "metadata": {},
   "source": [
    "## References\n",
    "\n",
    "[1] Devlin, Jacob, et al. \"Bert: Pre-training of deep bidirectional transformers for language understanding.\"\n",
    "arXiv preprint arXiv:1810.04805 (2018).\n",
    "\n",
    "[2] Dolan, William B., and Chris Brockett. \"Automatically constructing a corpus of sentential paraphrases.\" Proceedings of the Third International Workshop on Paraphrasing (IWP2005). 2005.\n",
    "\n",
    "[3] Peters, Matthew E., et al. \"Deep contextualized word representations.\" arXiv preprint arXiv:1802.05365 (2018).\n",
    "\n",
    "[4] GluonNLP Tutorial. Fine-tuning Sentence Pair Classification with BERT, <https://gluon-nlp.mxnet.io/examples/sentence_embedding/bert.html>.\n",
    "\n",
    "[5] Chris McCormick. BERT Fine-Tuning Tutorial with PyTorch, <https://mccormickml.com/2019/07/22/BERT-fine-tuning>.\n",
    "\n",
    "[6] Jay Alammar. A Visual Guide to Using BERT for the First Time, <http://jalammar.github.io/a-visual-guide-to-using-bert-for-the-first-time>"
   ]
  },
  {
   "cell_type": "code",
   "execution_count": null,
   "metadata": {},
   "outputs": [],
   "source": []
  },
  {
   "cell_type": "code",
   "execution_count": null,
   "metadata": {},
   "outputs": [],
   "source": []
  }
 ],
 "metadata": {
  "kernelspec": {
   "display_name": "conda_mxnet_p36",
   "language": "python",
   "name": "conda_mxnet_p36"
  },
  "language_info": {
   "codemirror_mode": {
    "name": "ipython",
    "version": 3
   },
   "file_extension": ".py",
   "mimetype": "text/x-python",
   "name": "python",
   "nbconvert_exporter": "python",
   "pygments_lexer": "ipython3",
   "version": "3.6.10"
  }
 },
 "nbformat": 4,
 "nbformat_minor": 4
}
